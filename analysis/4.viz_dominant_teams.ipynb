{
 "cells": [
  {
   "cell_type": "code",
   "execution_count": 0,
   "metadata": {
    "application/vnd.databricks.v1+cell": {
     "cellMetadata": {
      "byteLimit": 2048000,
      "rowLimit": 10000
     },
     "inputWidgets": {},
     "nuid": "513175f5-2672-4811-80a4-61be9af26101",
     "showTitle": false,
     "tableResultSettingsMap": {},
     "title": ""
    }
   },
   "outputs": [],
   "source": [
    "%python \n",
    "html = \"\"\"<h1 style=\"color:Black;text-align:center;font-family:Ariel\">Report on Dominant Formula 1 Teams</h1>\"\"\"\n",
    "displayHTML(html)"
   ]
  },
  {
   "cell_type": "code",
   "execution_count": 0,
   "metadata": {
    "application/vnd.databricks.v1+cell": {
     "cellMetadata": {
      "byteLimit": 2048000,
      "rowLimit": 10000
     },
     "inputWidgets": {},
     "nuid": "e71ffe92-2def-4e9c-a351-e6604cc9a8c3",
     "showTitle": false,
     "tableResultSettingsMap": {},
     "title": ""
    }
   },
   "outputs": [],
   "source": [
    "create or replace temp view vt_race_results \n",
    "as\n",
    "select team_name,\n",
    "      count(1) as total_races,\n",
    "      sum(calculated_points) as total_points,\n",
    "      round(avg(calculated_points),2) as avg_points,\n",
    "      rank() over (order by avg(calculated_points) desc) as team_rank\n",
    "from f1_presentation.calculated_race_results\n",
    "group by team_name\n",
    "having total_races >= 100\n",
    "order by avg_points desc"
   ]
  },
  {
   "cell_type": "code",
   "execution_count": 0,
   "metadata": {
    "application/vnd.databricks.v1+cell": {
     "cellMetadata": {
      "byteLimit": 2048000,
      "rowLimit": 10000
     },
     "inputWidgets": {},
     "nuid": "9ba8734a-8266-4a28-b350-deeac0550a8f",
     "showTitle": false,
     "tableResultSettingsMap": {},
     "title": ""
    }
   },
   "outputs": [],
   "source": [
    "select * from vt_race_results;"
   ]
  },
  {
   "cell_type": "code",
   "execution_count": 0,
   "metadata": {
    "application/vnd.databricks.v1+cell": {
     "cellMetadata": {
      "byteLimit": 2048000,
      "rowLimit": 10000
     },
     "inputWidgets": {},
     "nuid": "57f5ef42-6343-4cd8-aa7b-6c27014da7f1",
     "showTitle": false,
     "tableResultSettingsMap": {},
     "title": ""
    }
   },
   "outputs": [
    {
     "output_type": "display_data",
     "data": {
      "text/plain": [
       "Databricks visualization. Run in Databricks to view."
      ]
     },
     "metadata": {
      "application/vnd.databricks.v1.subcommand+json": {
       "baseErrorDetails": null,
       "bindings": {},
       "collapsed": false,
       "command": "%sql WITH q AS (select race_year,\n      team_name,\n      count(1) as total_races,\n      sum(calculated_points) as total_points,\n      round(avg(calculated_points),2) as avg_points\nfrom f1_presentation.calculated_race_results\nwhere team_name in (select team_name from vt_race_results where team_rank <= 5)\ngroup by race_year,team_name\norder by race_year,avg_points desc) SELECT `race_year`,SUM(`avg_points`) `column_566bb455154`,`team_name` FROM q GROUP BY `race_year`,`team_name`",
       "commandTitle": "Visualization 1",
       "commandType": "auto",
       "commandVersion": 0,
       "commentThread": [],
       "commentsVisible": false,
       "contentSha256Hex": null,
       "customPlotOptions": {
        "redashChart": [
         {
          "key": "type",
          "value": "CHART"
         },
         {
          "key": "options",
          "value": {
           "alignYAxesAtZero": true,
           "coefficient": 1,
           "columnConfigurationMap": {
            "series": {
             "column": "team_name",
             "id": "column_566bb455185"
            },
            "x": {
             "column": "race_year",
             "id": "column_566bb455152"
            },
            "y": [
             {
              "column": "avg_points",
              "id": "column_566bb455154",
              "transform": "SUM"
             }
            ]
           },
           "dateTimeFormat": "DD/MM/YYYY HH:mm",
           "direction": {
            "type": "counterclockwise"
           },
           "error_y": {
            "type": "data",
            "visible": true
           },
           "globalSeriesType": "line",
           "isAggregationOn": true,
           "legend": {
            "traceorder": "normal"
           },
           "missingValuesAsZero": true,
           "numberFormat": "0,0.[00000]",
           "percentFormat": "0[.]00%",
           "series": {
            "error_y": {
             "type": "data",
             "visible": true
            },
            "percentValues": false,
            "stacking": null
           },
           "seriesOptions": {
            "column_566bb455154": {
             "type": "line"
            }
           },
           "showDataLabels": false,
           "sizemode": "diameter",
           "sortX": true,
           "sortY": true,
           "swappedAxes": false,
           "textFormat": "",
           "useAggregationsUi": true,
           "valuesOptions": {},
           "version": 2,
           "xAxis": {
            "labels": {
             "enabled": true
            },
            "type": "-"
           },
           "yAxis": [
            {
             "type": "-"
            },
            {
             "opposite": true,
             "type": "-"
            }
           ]
          }
         }
        ]
       },
       "datasetPreviewNameToCmdIdMap": {},
       "diffDeletes": [],
       "diffInserts": [],
       "displayType": "redashChart",
       "error": null,
       "errorDetails": null,
       "errorSummary": null,
       "errorTraceType": null,
       "finishTime": 0,
       "globalVars": {},
       "guid": "",
       "height": "auto",
       "hideCommandCode": false,
       "hideCommandResult": false,
       "iPythonMetadata": null,
       "inputWidgets": {},
       "isLockedInExamMode": false,
       "latestUser": "a user",
       "latestUserId": null,
       "listResultMetadata": null,
       "metadata": {
        "byteLimit": 2048000,
        "rowLimit": 10000
       },
       "nuid": "130f7677-a1ec-480d-a4ed-3cc1192e7388",
       "origId": 0,
       "parentHierarchy": [],
       "pivotAggregation": null,
       "pivotColumns": null,
       "position": 3.0,
       "resultDbfsErrorMessage": null,
       "resultDbfsStatus": "INLINED_IN_TREE",
       "results": null,
       "showCommandTitle": false,
       "startTime": 0,
       "state": "input",
       "streamStates": {},
       "subcommandOptions": {
        "queryPlan": {
         "groups": [
          {
           "column": "race_year",
           "type": "column"
          },
          {
           "column": "team_name",
           "type": "column"
          }
         ],
         "selects": [
          {
           "column": "race_year",
           "type": "column"
          },
          {
           "alias": "column_566bb455154",
           "args": [
            {
             "column": "avg_points",
             "type": "column"
            }
           ],
           "function": "SUM",
           "type": "function"
          },
          {
           "column": "team_name",
           "type": "column"
          }
         ]
        }
       },
       "submitTime": 0,
       "subtype": "tableResultSubCmd.visualization",
       "tableResultIndex": 0,
       "tableResultSettingsMap": {},
       "useConsistentColors": false,
       "version": "CommandV1",
       "width": "auto",
       "workflows": null,
       "xColumns": null,
       "yColumns": null
      }
     },
     "output_type": "display_data"
    },
    {
     "output_type": "display_data",
     "data": {
      "text/plain": [
       "Databricks visualization. Run in Databricks to view."
      ]
     },
     "metadata": {
      "application/vnd.databricks.v1.subcommand+json": {
       "baseErrorDetails": null,
       "bindings": {},
       "collapsed": false,
       "command": "%sql WITH q AS (select race_year,\n      team_name,\n      count(1) as total_races,\n      sum(calculated_points) as total_points,\n      round(avg(calculated_points),2) as avg_points\nfrom f1_presentation.calculated_race_results\nwhere team_name in (select team_name from vt_race_results where team_rank <= 5)\ngroup by race_year,team_name\norder by race_year,avg_points desc) SELECT `team_name`,SUM(`total_races`) `column_566bb455160`,SUM(`total_points`) `column_566bb455163` FROM q GROUP BY `team_name`",
       "commandTitle": "Visualization 2",
       "commandType": "auto",
       "commandVersion": 0,
       "commentThread": [],
       "commentsVisible": false,
       "contentSha256Hex": null,
       "customPlotOptions": {
        "redashChart": [
         {
          "key": "type",
          "value": "CHART"
         },
         {
          "key": "options",
          "value": {
           "alignYAxesAtZero": true,
           "coefficient": 1,
           "columnConfigurationMap": {
            "x": {
             "column": "team_name",
             "id": "column_566bb455188"
            },
            "y": [
             {
              "column": "total_races",
              "id": "column_566bb455160",
              "transform": "SUM"
             },
             {
              "column": "total_points",
              "id": "column_566bb455163",
              "transform": "SUM"
             }
            ]
           },
           "dateTimeFormat": "DD/MM/YYYY HH:mm",
           "direction": {
            "type": "counterclockwise"
           },
           "error_y": {
            "type": "data",
            "visible": true
           },
           "globalSeriesType": "column",
           "isAggregationOn": true,
           "legend": {
            "traceorder": "normal"
           },
           "missingValuesAsZero": true,
           "numberFormat": "0,0.[00000]",
           "percentFormat": "0[.]00%",
           "series": {
            "error_y": {
             "type": "data",
             "visible": true
            },
            "stacking": null
           },
           "seriesOptions": {
            "column_566bb455160": {
             "type": "column",
             "yAxis": 0
            },
            "column_566bb455163": {
             "type": "column",
             "yAxis": 0
            }
           },
           "showDataLabels": false,
           "sizemode": "diameter",
           "sortX": false,
           "sortY": true,
           "swappedAxes": false,
           "textFormat": "",
           "useAggregationsUi": true,
           "valuesOptions": {},
           "version": 2,
           "xAxis": {
            "labels": {
             "enabled": true
            },
            "type": "-"
           },
           "yAxis": [
            {
             "type": "-"
            },
            {
             "opposite": true,
             "type": "-"
            }
           ]
          }
         }
        ]
       },
       "datasetPreviewNameToCmdIdMap": {},
       "diffDeletes": [],
       "diffInserts": [],
       "displayType": "redashChart",
       "error": null,
       "errorDetails": null,
       "errorSummary": null,
       "errorTraceType": null,
       "finishTime": 0,
       "globalVars": {},
       "guid": "",
       "height": "auto",
       "hideCommandCode": false,
       "hideCommandResult": false,
       "iPythonMetadata": null,
       "inputWidgets": {},
       "isLockedInExamMode": false,
       "latestUser": "a user",
       "latestUserId": null,
       "listResultMetadata": null,
       "metadata": {
        "byteLimit": 2048000,
        "rowLimit": 10000
       },
       "nuid": "5dbc2364-39d3-4cea-8b59-78f6d9ad96b4",
       "origId": 0,
       "parentHierarchy": [],
       "pivotAggregation": null,
       "pivotColumns": null,
       "position": 4.0,
       "resultDbfsErrorMessage": null,
       "resultDbfsStatus": "INLINED_IN_TREE",
       "results": null,
       "showCommandTitle": false,
       "startTime": 0,
       "state": "input",
       "streamStates": {},
       "subcommandOptions": {
        "queryPlan": {
         "groups": [
          {
           "column": "team_name",
           "type": "column"
          }
         ],
         "selects": [
          {
           "column": "team_name",
           "type": "column"
          },
          {
           "alias": "column_566bb455160",
           "args": [
            {
             "column": "total_races",
             "type": "column"
            }
           ],
           "function": "SUM",
           "type": "function"
          },
          {
           "alias": "column_566bb455163",
           "args": [
            {
             "column": "total_points",
             "type": "column"
            }
           ],
           "function": "SUM",
           "type": "function"
          }
         ]
        }
       },
       "submitTime": 0,
       "subtype": "tableResultSubCmd.visualization",
       "tableResultIndex": 0,
       "tableResultSettingsMap": {},
       "useConsistentColors": false,
       "version": "CommandV1",
       "width": "auto",
       "workflows": null,
       "xColumns": null,
       "yColumns": null
      }
     },
     "output_type": "display_data"
    }
   ],
   "source": [
    "select race_year,\n",
    "      team_name,\n",
    "      count(1) as total_races,\n",
    "      sum(calculated_points) as total_points,\n",
    "      round(avg(calculated_points),2) as avg_points\n",
    "from f1_presentation.calculated_race_results\n",
    "where team_name in (select team_name from vt_race_results where team_rank <= 5)\n",
    "group by race_year,team_name\n",
    "order by race_year,avg_points desc"
   ]
  },
  {
   "cell_type": "code",
   "execution_count": 0,
   "metadata": {
    "application/vnd.databricks.v1+cell": {
     "cellMetadata": {
      "byteLimit": 2048000,
      "rowLimit": 10000
     },
     "inputWidgets": {},
     "nuid": "ce1d2517-b820-43c3-87a7-fff6e973d4ee",
     "showTitle": false,
     "tableResultSettingsMap": {},
     "title": ""
    }
   },
   "outputs": [],
   "source": []
  }
 ],
 "metadata": {
  "application/vnd.databricks.v1+notebook": {
   "computePreferences": null,
   "dashboards": [
    {
     "elements": [
      {
       "dashboardResultIndex": null,
       "elementNUID": "5dbc2364-39d3-4cea-8b59-78f6d9ad96b4",
       "elementType": "command",
       "guid": "63b6d5c3-9cd8-4c9c-ab4d-6a40dcbc6dea",
       "options": {
        "autoScaleImg": false,
        "scale": 0,
        "showRunButton": true,
        "showTitle": true,
        "title": "Dominant Teams",
        "titleAlign": "center"
       },
       "position": {
        "height": 11,
        "width": 12,
        "x": 12,
        "y": 0,
        "z": null
       },
       "resultIndex": null
      },
      {
       "dashboardResultIndex": null,
       "elementNUID": "130f7677-a1ec-480d-a4ed-3cc1192e7388",
       "elementType": "command",
       "guid": "8faaa711-dfcb-44ae-8640-d84822f0176a",
       "options": {
        "autoScaleImg": false,
        "scale": 0,
        "showRunButton": true,
        "showTitle": true,
        "title": "Dominant Teams",
        "titleAlign": "center"
       },
       "position": {
        "height": 11,
        "width": 12,
        "x": 0,
        "y": 0,
        "z": null
       },
       "resultIndex": null
      }
     ],
     "globalVars": {},
     "guid": "",
     "layoutOption": {
      "grid": true,
      "stack": true
     },
     "nuid": "298a0532-6da9-4e0b-a7e3-a91efcd315f4",
     "origId": 2004030592112747,
     "title": "F1 Dominant Teams",
     "version": "DashboardViewV1",
     "width": 1024
    }
   ],
   "environmentMetadata": {
    "base_environment": "",
    "environment_version": "2"
   },
   "inputWidgetPreferences": null,
   "language": "sql",
   "notebookMetadata": {
    "pythonIndentUnit": 4
   },
   "notebookName": "4.viz_dominant_teams",
   "widgets": {}
  },
  "language_info": {
   "name": "sql"
  }
 },
 "nbformat": 4,
 "nbformat_minor": 0
}
