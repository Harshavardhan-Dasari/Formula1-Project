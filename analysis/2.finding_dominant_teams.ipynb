{
 "cells": [
  {
   "cell_type": "code",
   "execution_count": 0,
   "metadata": {
    "application/vnd.databricks.v1+cell": {
     "cellMetadata": {
      "byteLimit": 2048000,
      "rowLimit": 10000
     },
     "inputWidgets": {},
     "nuid": "fda8b446-e6aa-44b0-b7f9-16695472c4d5",
     "showTitle": false,
     "tableResultSettingsMap": {},
     "title": ""
    }
   },
   "outputs": [],
   "source": [
    "select team_name,\n",
    "      count(*) as total_races, \n",
    "      sum(calculated_points) as total_points,\n",
    "      round(avg(calculated_points),2) as avg_points\n",
    "from f1_presentation.calculated_race_results\n",
    "group by team_name\n",
    "having total_races > 100\n",
    "order by avg_points desc\n",
    ";\n"
   ]
  },
  {
   "cell_type": "code",
   "execution_count": 0,
   "metadata": {
    "application/vnd.databricks.v1+cell": {
     "cellMetadata": {
      "byteLimit": 2048000,
      "rowLimit": 10000
     },
     "inputWidgets": {},
     "nuid": "73b618c3-a0ed-4c24-ab92-628b38de53f7",
     "showTitle": false,
     "tableResultSettingsMap": {},
     "title": ""
    }
   },
   "outputs": [],
   "source": [
    "select team_name,\n",
    "      count(*) as total_races, \n",
    "      sum(calculated_points) as total_points,\n",
    "      round(avg(calculated_points),2) as avg_points\n",
    "from f1_presentation.calculated_race_results\n",
    "where race_year between 2010 and 2020\n",
    "group by team_name\n",
    "having total_races > 100\n",
    "order by avg_points desc\n",
    ";"
   ]
  },
  {
   "cell_type": "code",
   "execution_count": 0,
   "metadata": {
    "application/vnd.databricks.v1+cell": {
     "cellMetadata": {},
     "inputWidgets": {},
     "nuid": "bc3bc7b2-7f49-4831-8769-ea922263a9cf",
     "showTitle": false,
     "tableResultSettingsMap": {},
     "title": ""
    }
   },
   "outputs": [],
   "source": []
  }
 ],
 "metadata": {
  "application/vnd.databricks.v1+notebook": {
   "computePreferences": null,
   "dashboards": [],
   "environmentMetadata": {
    "base_environment": "",
    "environment_version": "2"
   },
   "inputWidgetPreferences": null,
   "language": "sql",
   "notebookMetadata": {
    "pythonIndentUnit": 4
   },
   "notebookName": "2.finding_dominant_teams",
   "widgets": {}
  },
  "language_info": {
   "name": "sql"
  }
 },
 "nbformat": 4,
 "nbformat_minor": 0
}
